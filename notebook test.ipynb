{
 "cells": [
  {
   "cell_type": "code",
   "execution_count": 1,
   "id": "975b6a04",
   "metadata": {},
   "outputs": [],
   "source": [
    "import json, pandas as pd\n",
    "from pathlib import Path"
   ]
  },
  {
   "cell_type": "code",
   "execution_count": 2,
   "id": "c8560a47",
   "metadata": {},
   "outputs": [
    {
     "name": "stdout",
     "output_type": "stream",
     "text": [
      "Leu Detail\n",
      "Leu Price\n"
     ]
    }
   ],
   "source": [
    "# solving problems with linux and windows directories\n",
    "config = json.load(open(Path(\"config.json\"),\"r\"))\n",
    "# detail or price\n",
    "fileconfig = lambda key : Path(\"base\",config[key])\n",
    "# opening\n",
    "detail = pd.read_csv(fileconfig(\"detail\"),encoding=\"utf-8\").drop(columns=[\"Unnamed: 0\"])\n",
    "print(\"Leu Detail\")\n",
    "price = pd.read_csv(fileconfig(\"price\"),encoding=\"utf-8\").drop(columns=[\"Unnamed: 0\",\"Unnamed: 0.1\"])\n",
    "print(\"Leu Price\")"
   ]
  },
  {
   "cell_type": "code",
   "execution_count": 3,
   "id": "b9b9621d",
   "metadata": {},
   "outputs": [
    {
     "name": "stdout",
     "output_type": "stream",
     "text": [
      "Realizou o concat entre Detail e price\n"
     ]
    }
   ],
   "source": [
    "conc = pd.merge(price,detail,\"inner\",[\"airbnb_listing_id\"])\n",
    "conc = conc.sort_values([\"airbnb_listing_id\",\"suburb\"])\n",
    "print(\"Realizou o concat entre Detail e price\")"
   ]
  },
  {
   "cell_type": "code",
   "execution_count": 46,
   "id": "58d36c07",
   "metadata": {
    "scrolled": true
   },
   "outputs": [
    {
     "data": {
      "text/html": [
       "<div>\n",
       "<style scoped>\n",
       "    .dataframe tbody tr th:only-of-type {\n",
       "        vertical-align: middle;\n",
       "    }\n",
       "\n",
       "    .dataframe tbody tr th {\n",
       "        vertical-align: top;\n",
       "    }\n",
       "\n",
       "    .dataframe thead th {\n",
       "        text-align: right;\n",
       "    }\n",
       "</style>\n",
       "<table border=\"1\" class=\"dataframe\">\n",
       "  <thead>\n",
       "    <tr style=\"text-align: right;\">\n",
       "      <th></th>\n",
       "      <th>airbnb_listing_id</th>\n",
       "      <th>booked_on</th>\n",
       "      <th>date</th>\n",
       "      <th>price_string</th>\n",
       "      <th>occupied</th>\n",
       "      <th>suburb</th>\n",
       "      <th>ad_name</th>\n",
       "      <th>number_of_bedrooms</th>\n",
       "      <th>number_of_bathrooms</th>\n",
       "      <th>star_rating</th>\n",
       "      <th>is_superhost</th>\n",
       "      <th>number_of_reviews</th>\n",
       "    </tr>\n",
       "  </thead>\n",
       "  <tbody>\n",
       "    <tr>\n",
       "      <th>174858</th>\n",
       "      <td>108658</td>\n",
       "      <td>blank</td>\n",
       "      <td>2020-11-19</td>\n",
       "      <td>300.0</td>\n",
       "      <td>0</td>\n",
       "      <td>Canasvieiras</td>\n",
       "      <td>Apartamento aconchegante de frente para o mar</td>\n",
       "      <td>2.0</td>\n",
       "      <td>2.0</td>\n",
       "      <td>NaN</td>\n",
       "      <td>False</td>\n",
       "      <td>0.0</td>\n",
       "    </tr>\n",
       "    <tr>\n",
       "      <th>174958</th>\n",
       "      <td>108658</td>\n",
       "      <td>blank</td>\n",
       "      <td>2021-02-24</td>\n",
       "      <td>300.0</td>\n",
       "      <td>0</td>\n",
       "      <td>Canasvieiras</td>\n",
       "      <td>Apartamento aconchegante de frente para o mar</td>\n",
       "      <td>2.0</td>\n",
       "      <td>2.0</td>\n",
       "      <td>NaN</td>\n",
       "      <td>False</td>\n",
       "      <td>0.0</td>\n",
       "    </tr>\n",
       "    <tr>\n",
       "      <th>174957</th>\n",
       "      <td>108658</td>\n",
       "      <td>blank</td>\n",
       "      <td>2021-02-23</td>\n",
       "      <td>300.0</td>\n",
       "      <td>0</td>\n",
       "      <td>Canasvieiras</td>\n",
       "      <td>Apartamento aconchegante de frente para o mar</td>\n",
       "      <td>2.0</td>\n",
       "      <td>2.0</td>\n",
       "      <td>NaN</td>\n",
       "      <td>False</td>\n",
       "      <td>0.0</td>\n",
       "    </tr>\n",
       "    <tr>\n",
       "      <th>174955</th>\n",
       "      <td>108658</td>\n",
       "      <td>blank</td>\n",
       "      <td>2021-02-21</td>\n",
       "      <td>500.0</td>\n",
       "      <td>0</td>\n",
       "      <td>Canasvieiras</td>\n",
       "      <td>Apartamento aconchegante de frente para o mar</td>\n",
       "      <td>2.0</td>\n",
       "      <td>2.0</td>\n",
       "      <td>NaN</td>\n",
       "      <td>False</td>\n",
       "      <td>0.0</td>\n",
       "    </tr>\n",
       "    <tr>\n",
       "      <th>174954</th>\n",
       "      <td>108658</td>\n",
       "      <td>2021-02-20 00:00:00</td>\n",
       "      <td>2021-02-20</td>\n",
       "      <td>500.0</td>\n",
       "      <td>1</td>\n",
       "      <td>Canasvieiras</td>\n",
       "      <td>Apartamento aconchegante de frente para o mar</td>\n",
       "      <td>2.0</td>\n",
       "      <td>2.0</td>\n",
       "      <td>NaN</td>\n",
       "      <td>False</td>\n",
       "      <td>0.0</td>\n",
       "    </tr>\n",
       "  </tbody>\n",
       "</table>\n",
       "</div>"
      ],
      "text/plain": [
       "        airbnb_listing_id            booked_on        date  price_string  \\\n",
       "174858             108658                blank  2020-11-19         300.0   \n",
       "174958             108658                blank  2021-02-24         300.0   \n",
       "174957             108658                blank  2021-02-23         300.0   \n",
       "174955             108658                blank  2021-02-21         500.0   \n",
       "174954             108658  2021-02-20 00:00:00  2021-02-20         500.0   \n",
       "\n",
       "        occupied        suburb                                        ad_name  \\\n",
       "174858         0  Canasvieiras  Apartamento aconchegante de frente para o mar   \n",
       "174958         0  Canasvieiras  Apartamento aconchegante de frente para o mar   \n",
       "174957         0  Canasvieiras  Apartamento aconchegante de frente para o mar   \n",
       "174955         0  Canasvieiras  Apartamento aconchegante de frente para o mar   \n",
       "174954         1  Canasvieiras  Apartamento aconchegante de frente para o mar   \n",
       "\n",
       "        number_of_bedrooms  number_of_bathrooms  star_rating  is_superhost  \\\n",
       "174858                 2.0                  2.0          NaN         False   \n",
       "174958                 2.0                  2.0          NaN         False   \n",
       "174957                 2.0                  2.0          NaN         False   \n",
       "174955                 2.0                  2.0          NaN         False   \n",
       "174954                 2.0                  2.0          NaN         False   \n",
       "\n",
       "        number_of_reviews  \n",
       "174858                0.0  \n",
       "174958                0.0  \n",
       "174957                0.0  \n",
       "174955                0.0  \n",
       "174954                0.0  "
      ]
     },
     "execution_count": 46,
     "metadata": {},
     "output_type": "execute_result"
    }
   ],
   "source": [
    "conc[\"mean\"] = conc[[\"airbnb_listing_id\",\"price_string\"]].groupby(\"airbnb_listing_id\").transform(\"mean\")\n",
    "conc = conc.sort_values([\"airbnb_listing_id\",\"suburb\",\"mean\"]).drop(columns=[\"mean\"])\n",
    "conc.head()"
   ]
  },
  {
   "cell_type": "code",
   "execution_count": 49,
   "id": "dbd220a8",
   "metadata": {
    "scrolled": false
   },
   "outputs": [],
   "source": [
    "conc.to_csv(\"mean.csv\",sep=\";\",index=False)"
   ]
  },
  {
   "cell_type": "code",
   "execution_count": 50,
   "id": "1d34574c",
   "metadata": {},
   "outputs": [
    {
     "data": {
      "text/plain": [
       "Index(['airbnb_listing_id', 'booked_on', 'date', 'price_string', 'occupied',\n",
       "       'suburb', 'ad_name', 'number_of_bedrooms', 'number_of_bathrooms',\n",
       "       'star_rating', 'is_superhost', 'number_of_reviews'],\n",
       "      dtype='object')"
      ]
     },
     "execution_count": 50,
     "metadata": {},
     "output_type": "execute_result"
    }
   ],
   "source": [
    "conc.columns"
   ]
  },
  {
   "cell_type": "code",
   "execution_count": null,
   "id": "d00308ec",
   "metadata": {},
   "outputs": [],
   "source": []
  }
 ],
 "metadata": {
  "kernelspec": {
   "display_name": "Python 3 (ipykernel)",
   "language": "python",
   "name": "python3"
  },
  "language_info": {
   "codemirror_mode": {
    "name": "ipython",
    "version": 3
   },
   "file_extension": ".py",
   "mimetype": "text/x-python",
   "name": "python",
   "nbconvert_exporter": "python",
   "pygments_lexer": "ipython3",
   "version": "3.10.0"
  }
 },
 "nbformat": 4,
 "nbformat_minor": 5
}
